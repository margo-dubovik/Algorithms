{
 "cells": [
  {
   "cell_type": "code",
   "execution_count": 133,
   "metadata": {},
   "outputs": [
    {
     "name": "stdout",
     "output_type": "stream",
     "text": [
      "[1, 2, 3, 4, 5, 6, 7, 8, 9, 10, 11, 12, 13, 14, 15, 16, 17, 18, 19, 20, 21, 22, 23, 24, 25, 26, 27, 28, 29, 30, 31, 32, 33, 34, 35, 36, 37, 38, 39, 40, 41, 42, 43, 44, 45, 46, 47, 48, 49, 50, 51, 52, 53, 54, 55, 56, 57, 58, 59, 60, 61, 62, 63, 64, 65, 66, 67, 68, 69, 70, 71, 72, 73, 74, 75, 76, 77, 78, 79, 80, 81, 82, 83, 84, 85, 86, 87, 88, 89, 90, 91, 92, 93, 94, 95, 96, 97, 98, 99, 100]\n",
      "comparisons: 656\n"
     ]
    }
   ],
   "source": [
    "#ver1 -- pivot -- last element of array\n",
    "def partition(A, p, r, counter):\n",
    "    x = A[r] #pivot -- last element of array\n",
    "    i = p-1\n",
    "    for j in range(p, r):\n",
    "        if A[j] <= x:\n",
    "            i += 1\n",
    "            A[i], A[j] = A[j], A[i]\n",
    "    A[i+1], A[r] = A[r], A[i+1]\n",
    "    counter += (r-p)\n",
    "    return i+1, counter\n",
    "\n",
    "def quicksort(A, p, r, c): #c -- counter of comparisons\n",
    "    if p < r:\n",
    "        q, c = partition(A, p, r, c)\n",
    "        A, c = quicksort(A, p, q-1, c)\n",
    "        A, c = quicksort(A, q+1, r, c)\n",
    "    return A, c\n",
    "\n",
    "def read_array(): #read from file into matrix\n",
    "    with open('input__100.txt', 'r') as f:\n",
    "        l = [int(line) for line in f]\n",
    "    return l\n",
    "\n",
    "arr = read_array()\n",
    "r = arr[0] - 1\n",
    "p = 0\n",
    "c = 0\n",
    "\n",
    "res, counter = quicksort(arr[1:], p, r, c)\n",
    "print(res)\n",
    "print(\"comparisons:\",counter)"
   ]
  },
  {
   "cell_type": "code",
   "execution_count": 3,
   "metadata": {},
   "outputs": [
    {
     "name": "stdout",
     "output_type": "stream",
     "text": [
      "[1, 2, 3, 4, 5]\n",
      "comparisons: 10\n"
     ]
    }
   ],
   "source": [
    "#ver2. pivot -- first element (swap first and last, then use previous code)\n",
    "def partition(A, p, r, counter):\n",
    "    A[p], A[r] = A[r], A[p]\n",
    "    x = A[r] #pivot -- last element of array\n",
    "    i = p-1\n",
    "    for j in range(p, r):\n",
    "        if A[j] <= x:\n",
    "            i += 1\n",
    "            A[i], A[j] = A[j], A[i]\n",
    "    A[i+1], A[r] = A[r], A[i+1]\n",
    "    counter += (r-p)\n",
    "    return i+1, counter\n",
    "\n",
    "def quicksort(A, p, r, c): #c -- counter of comparisons\n",
    "    if p < r:\n",
    "        q, c = partition(A, p, r, c)\n",
    "        A, c = quicksort(A, p, q-1, c)\n",
    "        A, c = quicksort(A, q+1, r, c)\n",
    "    return A, c\n",
    "\n",
    "def read_array(): #read from file into matrix\n",
    "    with open('input__100.txt', 'r') as f:\n",
    "        l = [int(line) for line in f]\n",
    "    return l\n",
    "\n",
    "# arr = read_array()\n",
    "arr = [5,1,2,3,4,5]\n",
    "# arr = [5,4,1,5,3,2]\n",
    "r = arr[0] - 1\n",
    "p = 0\n",
    "c = 0\n",
    "\n",
    "res, counter = quicksort(arr[1:], p, r, c)\n",
    "print(res)\n",
    "print(\"comparisons:\",counter)"
   ]
  },
  {
   "cell_type": "code",
   "execution_count": 135,
   "metadata": {},
   "outputs": [
    {
     "name": "stdout",
     "output_type": "stream",
     "text": [
      "[1, 2, 3, 4, 5, 6, 7, 8, 9, 10, 11, 12, 13, 14, 15, 16, 17, 18, 19, 20, 21, 22, 23, 24, 25, 26, 27, 28, 29, 30, 31, 32, 33, 34, 35, 36, 37, 38, 39, 40, 41, 42, 43, 44, 45, 46, 47, 48, 49, 50, 51, 52, 53, 54, 55, 56, 57, 58, 59, 60, 61, 62, 63, 64, 65, 66, 67, 68, 69, 70, 71, 72, 73, 74, 75, 76, 77, 78, 79, 80, 81, 82, 83, 84, 85, 86, 87, 88, 89, 90, 91, 92, 93, 94, 95, 96, 97, 98, 99, 100]\n",
      "comparisons: 586\n"
     ]
    }
   ],
   "source": [
    "import numpy as np\n",
    "\n",
    "#ver3. pivot -- median of first,middle and last elements of array\n",
    "#(find median element of them and swap it with the last one, then use previous code)\n",
    "\n",
    "def partition(A, p, r, counter):\n",
    "    if len(A) > 2:\n",
    "        els = [A[p], A[r], A[int((p+r)/2)]]\n",
    "        med = np.sort(els)[1]\n",
    "    else:\n",
    "        med = A[0]\n",
    "    im = A.index(med)\n",
    "    A[im], A[r] = A[r], A[im]\n",
    "    x = A[r] #pivot -- last element of array\n",
    "    i = p-1\n",
    "    for j in range(p, r):\n",
    "        if A[j] <= x:\n",
    "            i += 1\n",
    "            A[i], A[j] = A[j], A[i]\n",
    "    A[i+1], A[r] = A[r], A[i+1]\n",
    "    counter += (r-p)\n",
    "    return i+1, counter\n",
    "\n",
    "def quicksort(A, p, r, c): #c -- counter of comparisons\n",
    "    if p < r:\n",
    "        q, c = partition(A, p, r, c)\n",
    "        A, c = quicksort(A, p, q-1, c)\n",
    "        A, c = quicksort(A, q+1, r, c)\n",
    "    return A, c\n",
    "\n",
    "def read_array(): #read from file into matrix\n",
    "    with open('input__100.txt', 'r') as f:\n",
    "        l = [int(line) for line in f]\n",
    "    return l\n",
    "\n",
    "arr = read_array()\n",
    "r = arr[0] - 1\n",
    "\n",
    "p = 0\n",
    "c = 0\n",
    "\n",
    "res, counter = quicksort(arr[1:], p, r, c)\n",
    "print(res)\n",
    "print(\"comparisons:\",counter)"
   ]
  },
  {
   "cell_type": "code",
   "execution_count": null,
   "metadata": {},
   "outputs": [],
   "source": []
  }
 ],
 "metadata": {
  "kernelspec": {
   "display_name": "Python 3",
   "language": "python",
   "name": "python3"
  },
  "language_info": {
   "codemirror_mode": {
    "name": "ipython",
    "version": 3
   },
   "file_extension": ".py",
   "mimetype": "text/x-python",
   "name": "python",
   "nbconvert_exporter": "python",
   "pygments_lexer": "ipython3",
   "version": "3.8.3"
  }
 },
 "nbformat": 4,
 "nbformat_minor": 4
}
