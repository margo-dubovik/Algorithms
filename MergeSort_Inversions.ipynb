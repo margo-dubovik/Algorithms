{
 "cells": [
  {
   "cell_type": "markdown",
   "metadata": {},
   "source": [
    "Merge Sort + Inversions count"
   ]
  },
  {
   "cell_type": "code",
   "execution_count": 1,
   "metadata": {},
   "outputs": [],
   "source": [
    "def MergeAndCountSplitInv(A, L, R):\n",
    "    M = []\n",
    "    i = 0\n",
    "    j = 0\n",
    "    c = 0 #number of split inversions\n",
    "    for k in range(len(L) + len(R)):\n",
    "        if len(L) > i and len(R) > j:\n",
    "            if L[i] <= R[j]:\n",
    "                M.append(L[i])\n",
    "                i += 1\n",
    "            else:\n",
    "                M.append(R[j])\n",
    "                j += 1\n",
    "                c += (len(L) - i)\n",
    "        elif len(L)<= i:\n",
    "            M.append(R[j])\n",
    "            j += 1\n",
    "        elif len(R)<= j:\n",
    "            M.append(L[i])\n",
    "            i += 1\n",
    "    return M, c"
   ]
  },
  {
   "cell_type": "code",
   "execution_count": 2,
   "metadata": {},
   "outputs": [],
   "source": [
    "def SortAndCountInv(A):\n",
    "    if len(A) == 1:\n",
    "        return A, 0\n",
    "    else:\n",
    "        n2 = int(len(A)/2)\n",
    "        La = A[:n2]\n",
    "        Ra = A[n2:]\n",
    "        L, x = SortAndCountInv(La)\n",
    "        R, y = SortAndCountInv(Ra)\n",
    "        A, z = MergeAndCountSplitInv(A, L, R)\n",
    "        return A, x + y + z"
   ]
  },
  {
   "cell_type": "code",
   "execution_count": 4,
   "metadata": {
    "collapsed": true
   },
   "outputs": [
    {
     "name": "stdout",
     "output_type": "stream",
     "text": [
      "0\n",
      "[1, 2, 3, 4, 5]\n"
     ]
    }
   ],
   "source": [
    "def get_matrix(): #read from file into matrix\n",
    "    with open('input.txt', 'r') as f:\n",
    "        l = [[int(num) for num in line.split(' ')] for line in f]\n",
    "    return l\n",
    "\n",
    "def get_users(a,b, m):\n",
    "    us1 = m[a][1:]\n",
    "    us2 = m[b][1:]\n",
    "    return us1, us2\n",
    "\n",
    "def get_relative_arr(a, b, m):\n",
    "    u1, u2 = get_users(a,b, m)\n",
    "    arr = []\n",
    "    for i in range(len(u1)):\n",
    "        arr.append(u2[u1.index(i+1)])\n",
    "    return arr\n",
    "\n",
    "def get_relative_inversions(a, b):\n",
    "    m = get_matrix()\n",
    "    Arr = get_relative_arr(a, b, m)\n",
    "    Res, inv = SortAndCountInv(Arr)\n",
    "    return Res, inv\n",
    "\n",
    "res, inv = get_relative_inversions(863, 29)    \n",
    "print(inv)\n",
    "print(res)"
   ]
  },
  {
   "cell_type": "code",
   "execution_count": null,
   "metadata": {},
   "outputs": [],
   "source": []
  },
  {
   "cell_type": "code",
   "execution_count": 3,
   "metadata": {},
   "outputs": [
    {
     "name": "stdout",
     "output_type": "stream",
     "text": [
      "59166.0\n"
     ]
    }
   ],
   "source": [
    "V= [274, 264, 275, 259, 258, 260, 262, 279, 261, 272, 291, 246, 244, 242, 288, 253, 263, 276, 234, 312, 224, 285, 283, 223, 232, 284, 251, 294, 323, 295, 300, 297, 206, 203, 237, 225, 316, 337, 306, 216, 281, 182, 271, 198, 211, 280, 268, 208, 318, 187, 290, 254, 315, 179, 343, 175, 219, 289, 256, 248, 349, 231, 346, 310, 228, 359, 174, 214, 356, 181, 308, 325, 221, 207, 243, 241, 172, 364, 171, 196, 365, 192, 296, 277, 287, 273, 357, 367, 377, 166, 385, 167, 336, 344, 352, 338, 366, 334, 286, 160, 173, 158, 215, 188, 180, 389, 205, 307, 199, 139, 303, 255, 148, 185, 351, 347, 197, 328, 311, 115, 379, 150, 383, 245, 382, 372, 113, 220, 100, 278, 330, 190, 397, 250, 282, 117, 149, 384, 322, 341, 414, 398, 146, 354, 413, 400, 209, 96, 210, 230, 265, 321, 355, 388, 412, 411, 97, 106, 327, 378, 102, 91, 195, 154, 392, 163, 118, 217, 434, 164, 186, 324, 361, 136, 442, 204, 194, 177, 101, 438, 218, 126, 363, 112, 396, 371, 109, 71, 314, 370, 138, 342, 437, 229, 386, 309, 105, 75, 161, 302, 240, 95, 404, 143, 108, 374, 450, 360, 124, 83, 317, 137, 81, 104, 73, 123, 107, 444, 125, 454, 176, 64, 227, 58, 436, 313, 189, 76, 156, 151, 222, 66, 59, 157, 455, 452, 415, 348, 445, 467, 457, 387, 448, 152, 375, 331, 247, 468, 45, 451, 395, 358, 90, 165, 399, 159, 193, 65, 168, 56, 233, 130, 178, 213, 368, 200, 89, 369, 61, 238, 423, 471, 353, 47, 88, 135, 155, 335, 405, 394, 44, 52, 77, 94, 406, 131, 431, 74, 212, 69, 184, 433, 82, 103, 144, 37, 298, 201, 408, 292, 99, 86, 326, 419, 440, 426, 36, 129, 29, 92, 425, 54, 226, 390, 32, 461, 116, 420, 407, 26, 22, 483, 403, 70, 432, 60, 252, 416, 41, 439, 447, 132, 134, 462, 49, 266, 38, 482, 391, 401, 484, 153, 421, 435, 19, 269, 80, 142, 68, 17, 459, 257, 270, 464, 424, 98, 469, 402, 474, 111, 202, 479, 87, 84, 128, 473, 301, 418, 235, 475, 62, 480, 456, 466, 67, 381, 422, 114, 362, 488, 458, 169, 14, 340, 477, 63, 476, 463, 409, 486, 410, 429, 93, 453, 40, 428, 78, 21, 122, 162, 140, 417, 493, 490, 28, 183, 33, 333, 11, 20, 305, 9, 145, 50, 8, 319, 4, 236, 304, 460, 373, 31, 485, 293, 24, 191, 332, 133, 121, 72, 443, 393, 79, 478, 376, 449, 12, 127, 15, 55, 441, 30, 10, 18, 345, 13, 7, 492, 34, 5, 339, 320, 57, 427, 48, 1, 85, 53, 141, 495, 3, 239, 350, 51, 329, 487, 147, 249, 299, 39, 6, 380, 497, 46, 491, 23, 470, 42, 481, 267, 0, 110, 499, 489, 472, 25, 2, 494, 496, 43, 465, 430, 119, 120, 446, 16, 170, 35, 498, 27]\n",
    "\n",
    "inv = SortAndCountInv(V)[1]\n",
    "n = len(V)\n",
    "allpairs = n*(n-1)/2\n",
    "res = allpairs-inv\n",
    "print(res)"
   ]
  },
  {
   "cell_type": "code",
   "execution_count": null,
   "metadata": {},
   "outputs": [],
   "source": []
  }
 ],
 "metadata": {
  "kernelspec": {
   "display_name": "Python 3",
   "language": "python",
   "name": "python3"
  },
  "language_info": {
   "codemirror_mode": {
    "name": "ipython",
    "version": 3
   },
   "file_extension": ".py",
   "mimetype": "text/x-python",
   "name": "python",
   "nbconvert_exporter": "python",
   "pygments_lexer": "ipython3",
   "version": "3.8.3"
  }
 },
 "nbformat": 4,
 "nbformat_minor": 4
}
