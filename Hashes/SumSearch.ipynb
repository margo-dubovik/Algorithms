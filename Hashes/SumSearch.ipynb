{
 "cells": [
  {
   "cell_type": "code",
   "execution_count": 33,
   "metadata": {},
   "outputs": [],
   "source": [
    "import time"
   ]
  },
  {
   "cell_type": "code",
   "execution_count": 21,
   "metadata": {},
   "outputs": [],
   "source": [
    "def read_array(filename): #read from file into array\n",
    "    with open(f'{filename}.txt', 'r') as f:\n",
    "        l = [int(line[:-1]) for line in f]\n",
    "    return l"
   ]
  },
  {
   "cell_type": "code",
   "execution_count": 40,
   "metadata": {},
   "outputs": [],
   "source": [
    "def hash_search(ar, y):\n",
    "    if y not in ar:\n",
    "        return None\n",
    "    else:\n",
    "        return ar[y]\n",
    "\n",
    "# def hash_search(ar, y):\n",
    "#     try:\n",
    "#         return ar[y]\n",
    "#     except KeyError as e:\n",
    "#         return None\n",
    "  \n",
    "    \n",
    "def sum_search(ar, dict_ar):\n",
    "    s_possible = []\n",
    "    for s in range(-1000,1001):\n",
    "        for x in ar:\n",
    "            y = s - x\n",
    "            if hash_search(dict_ar, y) != None:\n",
    "#                 print(\"s=\",s, \"x=\",x, \"y=\",y)\n",
    "                s_possible.append(s)\n",
    "    res = len(set(s_possible))\n",
    "    return res"
   ]
  },
  {
   "cell_type": "code",
   "execution_count": 44,
   "metadata": {},
   "outputs": [
    {
     "name": "stdout",
     "output_type": "stream",
     "text": [
      "999752\n"
     ]
    }
   ],
   "source": [
    "A = set(read_array(\"task\"))\n",
    "print(len(A))\n",
    "dict_A = dict(zip(A,A))"
   ]
  },
  {
   "cell_type": "code",
   "execution_count": 45,
   "metadata": {},
   "outputs": [
    {
     "name": "stdout",
     "output_type": "stream",
     "text": [
      "41\n",
      "time= 923.7141554355621\n"
     ]
    }
   ],
   "source": [
    "start = time.time()\n",
    "n = sum_search(A, dict_A)\n",
    "end = time.time()\n",
    "print(n)\n",
    "print(\"time=\", end - start)"
   ]
  },
  {
   "cell_type": "code",
   "execution_count": null,
   "metadata": {},
   "outputs": [],
   "source": []
  }
 ],
 "metadata": {
  "kernelspec": {
   "display_name": "Python 3",
   "language": "python",
   "name": "python3"
  },
  "language_info": {
   "codemirror_mode": {
    "name": "ipython",
    "version": 3
   },
   "file_extension": ".py",
   "mimetype": "text/x-python",
   "name": "python",
   "nbconvert_exporter": "python",
   "pygments_lexer": "ipython3",
   "version": "3.8.3"
  }
 },
 "nbformat": 4,
 "nbformat_minor": 4
}
