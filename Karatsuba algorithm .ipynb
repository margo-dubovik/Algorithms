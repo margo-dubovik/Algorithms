{
 "cells": [
  {
   "cell_type": "code",
   "execution_count": 27,
   "metadata": {},
   "outputs": [],
   "source": [
    "def mul_karatsuba(X,Y):\n",
    "    x = str(X)\n",
    "    y = str(Y)\n",
    "    if len(x) == len(y) == 1:\n",
    "        return X*Y\n",
    "    while len(x) < len(y):\n",
    "        x = '0' + x\n",
    "    while len(x) > len(y):\n",
    "        y = '0' + y\n",
    "    while len(x) % 2 !=0:\n",
    "        x = '0' + x\n",
    "        y = '0' + y\n",
    "    n = len(x)    \n",
    "    n2 = int(n / 2)\n",
    "    a, b = int(x[:n2]), int(x[n2:])\n",
    "    c, d = int(y[:n2]), int(y[n2:])\n",
    "\n",
    "    ac = mul_karatsuba(a, c)\n",
    "    bd = mul_karatsuba(b, d)\n",
    "    k = mul_karatsuba((a+b),(c+d))\n",
    "    t = (k - ac - bd) \n",
    "\n",
    "    z = ac*(10**n) + t*(10**n2) + bd\n",
    "    return z"
   ]
  },
  {
   "cell_type": "code",
   "execution_count": 28,
   "metadata": {
    "scrolled": false
   },
   "outputs": [
    {
     "name": "stdout",
     "output_type": "stream",
     "text": [
      "11989460275519080564894036768322865785999566885539505969749975204962718118914971586072960191064507745920086993438529097266122668\n"
     ]
    }
   ],
   "source": [
    "X = 1685287499328328297814655639278583667919355849391453456921116729\n",
    "Y = 7114192848577754587969744626558571536728983167954552999895348492\n",
    "\n",
    "Z = mul_karatsuba(X,Y)\n",
    "print(Z)"
   ]
  },
  {
   "cell_type": "code",
   "execution_count": null,
   "metadata": {},
   "outputs": [],
   "source": []
  }
 ],
 "metadata": {
  "kernelspec": {
   "display_name": "Python 3",
   "language": "python",
   "name": "python3"
  },
  "language_info": {
   "codemirror_mode": {
    "name": "ipython",
    "version": 3
   },
   "file_extension": ".py",
   "mimetype": "text/x-python",
   "name": "python",
   "nbconvert_exporter": "python",
   "pygments_lexer": "ipython3",
   "version": "3.8.3"
  }
 },
 "nbformat": 4,
 "nbformat_minor": 4
}
